{
 "cells": [
  {
   "cell_type": "code",
   "execution_count": 11,
   "metadata": {},
   "outputs": [],
   "source": [
    "from classroom import *\n",
    "import io\n",
    "from googleapiclient.http import MediaIoBaseDownload\n",
    "import datetime\n",
    "from datetime import timedelta\n",
    "import configparser\n",
    "import json"
   ]
  },
  {
   "cell_type": "code",
   "execution_count": 12,
   "metadata": {},
   "outputs": [],
   "source": [
    "#подключение к гугл диску для загрузки файлов\n",
    "#код взят из доков к апи\n",
    "\n",
    "from __future__ import print_function\n",
    "import pickle\n",
    "import os.path\n",
    "from googleapiclient.discovery import build\n",
    "from google_auth_oauthlib.flow import InstalledAppFlow\n",
    "from google.auth.transport.requests import Request\n",
    "\n",
    "# If modifying these scopes, delete the file token.pickle.\n",
    "SCOPES = ['https://www.googleapis.com/auth/drive.metadata.readonly',\n",
    "         'https://www.googleapis.com/auth/drive']\n",
    "drive_service=None\n",
    "\n",
    "def main():\n",
    "    \"\"\"Shows basic usage of the Drive v3 API.\n",
    "    Prints the names and ids of the first 10 files the user has access to.\n",
    "    \"\"\"\n",
    "    creds = None\n",
    "    # The file token.pickle stores the user's access and refresh tokens, and is\n",
    "    # created automatically when the authorization flow completes for the first\n",
    "    # time.\n",
    "    if os.path.exists('token_drive.pickle'):\n",
    "        with open('token_drive.pickle', 'rb') as token:\n",
    "            creds = pickle.load(token)\n",
    "    # If there are no (valid) credentials available, let the user log in.\n",
    "    if not creds or not creds.valid:\n",
    "        if creds and creds.expired and creds.refresh_token:\n",
    "            creds.refresh(Request())\n",
    "        else:\n",
    "            flow = InstalledAppFlow.from_client_secrets_file(\n",
    "                'auth/credentials.json', SCOPES)\n",
    "            creds = flow.run_local_server(port=0)\n",
    "        # Save the credentials for the next run\n",
    "        with open('token_drive.pickle', 'wb') as token:\n",
    "            pickle.dump(creds, token)\n",
    "\n",
    "    return build('drive', 'v3', credentials=creds)\n",
    "\n",
    "drive_service=main()"
   ]
  },
  {
   "cell_type": "markdown",
   "metadata": {},
   "source": [
    "#### Загрузка работ из Classroom"
   ]
  },
  {
   "cell_type": "code",
   "execution_count": 20,
   "metadata": {},
   "outputs": [
    {
     "name": "stdout",
     "output_type": "stream",
     "text": [
      "Загружено файлов: 2020-04-13 20:16:37 - 2\n"
     ]
    }
   ],
   "source": [
    "#парсинг конфига (в конфиге отметка времени последнего срабатывания грейдера)\n",
    "try:\n",
    "    config = configparser.ConfigParser()\n",
    "    config.read('config.ini')\n",
    "    last_check_timestamp = config['CONFIG']['last_check_timestamp']\n",
    "    last_check_timestamp = datetime.datetime.strptime(last_check_timestamp, \"%d-%m-%Y %H:%M:%S\")\n",
    "except:\n",
    "    print(\"Проблема с конфиг-файлом или парсингом времени\")\n",
    "\n",
    "start=datetime.datetime.now()-timedelta(hours=3) #фиксируем время, в которое начали загружать данные\n",
    "\n",
    "course = get_course('39405675985') #загружаем курс\n",
    "course['courseWork'] = get_courseWork(course) #загружаем все задания курса\n",
    "course['students'] = get_students(course) #загружаем всех студентов курса\n",
    "\n",
    "#для каждого задания\n",
    "for task in course['courseWork']:\n",
    "    submissions = get_submissions(course, task) #загружаем список (всех) работ студентов\n",
    "    task['studentSubmissions'] = [] #сюда скопируем только те работы, которые еще не проверялись\n",
    "    \n",
    "    for submission in submissions: #для каждой работы\n",
    "        if 'stateHistory' in submission['submissionHistory'][-1]: #если последнее состояние - \"работа сдана\"\n",
    "            if 'attachments' in submission['assignmentSubmission']:\n",
    "                if submission['submissionHistory'][-1]['stateHistory']['state'] == 'TURNED_IN':\n",
    "                    #если работа была обновлена ПОСЛЕ последнего включения грейдера, оставляем работу (для проверки)\n",
    "                    if (last_check_timestamp - to_timestamp(submission['updateTime'])).total_seconds() < 0:\n",
    "                        task['studentSubmissions'].append(submission)\n",
    "\n",
    "#обновляем время последнего включения грейдера в конфиге\n",
    "config['CONFIG']['last_check_timestamp'] = start.strftime(\"%d-%m-%Y %H:%M:%S\")\n",
    "with open('config.ini', 'w') as configfile:\n",
    "    config.write(configfile)\n",
    "configfile.close()\n",
    "\n",
    "\n",
    "list_of_submissions = [] #список загруженных для проверки работ\n",
    "list_of_errors = [] #список работ, при загрузки которых произошла ошибка\n",
    "\n",
    "#для каждого задания в курсе\n",
    "for task in course['courseWork']:\n",
    "    #для каждой работы, которую нужно проверить\n",
    "    for subm in task['studentSubmissions']:\n",
    "        try:\n",
    "        #код для загрузки файла не мой, че он делает - хз\n",
    "        ######\n",
    "            file_id = subm['assignmentSubmission']['attachments'][0]['driveFile']['id'] #id файла на диске\n",
    "            request = drive_service.files().get_media(fileId=file_id)\n",
    "            \n",
    "            #название, под которым будет сохранен файл: <id задания> - <id работы> (без кавычек)\n",
    "            filename = \"for_grading/{} - {}.{}\".format(task['id'], \n",
    "                                           subm['id'], \n",
    "                                           subm['assignmentSubmission']['attachments'][0]['driveFile']['title'].split('.')[-1])\n",
    "            \n",
    "            fh = io.FileIO(filename, 'wb')\n",
    "            downloader = MediaIoBaseDownload(fh, request)\n",
    "            done = False\n",
    "            while done is False:\n",
    "                status, done = downloader.next_chunk()\n",
    "        ######\n",
    "            \n",
    "            \n",
    "            #если файл успешно загрузился, добавляем запись о нем в файл\n",
    "            list_of_submissions.append({'courseWorkId': task['id'], \n",
    "                                        'courseWorkName': task['title'],\n",
    "                                       'submissionId': subm['id'], \n",
    "                                       'userId': subm['userId'], \n",
    "                                       'email': find_student(subm['userId'], course['students'])['emailAddress'],\n",
    "                                       'firstName': find_student(subm['userId'], course['students'])['firstName'],\n",
    "                                       'lastName': find_student(subm['userId'], course['students'])['lastName'],\n",
    "                                       'grade':0})\n",
    "        except:\n",
    "            #возникшие проблемы записываются в лог\n",
    "            logger.warning('проблема с загрузкой: {}, {}'.format(task['title'],\n",
    "                                                   find_student(subm['userId'], course['students'])['emailAddress']))\n",
    "\n",
    "print('Загружено файлов: {} - {}'.format(last_check_timestamp, len(list_of_submissions)))\n",
    "logger.info('Загружено файлов: {}'.format(len(list_of_submissions)))\n",
    "\n",
    "#файл с инфой о работах, которые нужно проверить\n",
    "with open(\"submissions.json\", \"w\") as file:\n",
    "    file.write(json.dumps({'data':list_of_submissions}, indent = 4))\n",
    "file.close()"
   ]
  },
  {
   "cell_type": "markdown",
   "metadata": {},
   "source": [
    "#### Выгрузка оценок в Classroom"
   ]
  },
  {
   "cell_type": "markdown",
   "metadata": {},
   "source": [
    "Грейдер делает свое дело, а именно - достает оценки из файлов студентов и записывает их в поле grade в файл `submissions.json`"
   ]
  },
  {
   "cell_type": "code",
   "execution_count": 21,
   "metadata": {},
   "outputs": [],
   "source": [
    "#читаем submissions.json\n",
    "with open(\"submissions.json\", \"r\") as read_file:\n",
    "    data = json.load(read_file)['data']"
   ]
  },
  {
   "cell_type": "markdown",
   "metadata": {},
   "source": [
    "Инфа в файле выглядит следующим образом (когда в файл загружаются данные из классрума, в поле grade стоит 0; грейдер должен проставить в них актуальную оценку):"
   ]
  },
  {
   "cell_type": "code",
   "execution_count": 27,
   "metadata": {},
   "outputs": [
    {
     "data": {
      "text/plain": [
       "[{'courseWorkId': '83519916191',\n",
       "  'courseWorkName': 'test3',\n",
       "  'submissionId': 'Cg4I36OlmcoBEJ-Rs5G3Ag',\n",
       "  'userId': '108574576705829127319',\n",
       "  'email': 'vakiryanova@edu.hse.ru',\n",
       "  'firstName': 'Groups',\n",
       "  'lastName': 'Technical Account',\n",
       "  'grade': 0},\n",
       " {'courseWorkId': '75649994456',\n",
       "  'courseWorkName': 'test',\n",
       "  'submissionId': 'Cg4I36OlmcoBENid3eiZAg',\n",
       "  'userId': '108574576705829127319',\n",
       "  'email': 'vakiryanova@edu.hse.ru',\n",
       "  'firstName': 'Groups',\n",
       "  'lastName': 'Technical Account',\n",
       "  'grade': 0}]"
      ]
     },
     "execution_count": 27,
     "metadata": {},
     "output_type": "execute_result"
    }
   ],
   "source": [
    "data"
   ]
  },
  {
   "cell_type": "markdown",
   "metadata": {},
   "source": [
    "Вот тут проблемес с тем, что через апи получается ставить оценки лишь по тем заданиям, что были созданы через апи (а не ручками).  \n",
    "\n",
    "Но по идее этой проблемы не будет, если работать с сервисного акка (в любом случае это проблема с моей стороны)"
   ]
  },
  {
   "cell_type": "code",
   "execution_count": 24,
   "metadata": {},
   "outputs": [
    {
     "name": "stdout",
     "output_type": "stream",
     "text": [
      "test3\n"
     ]
    },
    {
     "ename": "HttpError",
     "evalue": "<HttpError 403 when requesting https://classroom.googleapis.com/v1/courses/39405675985/courseWork/75649994456/studentSubmissions/Cg4I36OlmcoBENid3eiZAg?updateMask=assignedGrade%2CdraftGrade&alt=json returned \"@ProjectPermissionDenied The Developer Console project is not permitted to make this request.\">",
     "output_type": "error",
     "traceback": [
      "\u001b[0;31m---------------------------------------------------------------------------\u001b[0m",
      "\u001b[0;31mHttpError\u001b[0m                                 Traceback (most recent call last)",
      "\u001b[0;32m<ipython-input-24-bfcb6a8c91dd>\u001b[0m in \u001b[0;36m<module>\u001b[0;34m\u001b[0m\n\u001b[1;32m     10\u001b[0m                                                                     \u001b[0mupdateMask\u001b[0m\u001b[0;34m=\u001b[0m\u001b[0;34m'assignedGrade,draftGrade'\u001b[0m\u001b[0;34m,\u001b[0m\u001b[0;34m\u001b[0m\u001b[0;34m\u001b[0m\u001b[0m\n\u001b[1;32m     11\u001b[0m                                                                     body={\"draftGrade\": \n\u001b[0;32m---> 12\u001b[0;31m                                                                           subm['grade'], \"assignedGrade\": subm['grade']}).execute()\n\u001b[0m\u001b[1;32m     13\u001b[0m     \u001b[0mprint\u001b[0m\u001b[0;34m(\u001b[0m\u001b[0msubm\u001b[0m\u001b[0;34m[\u001b[0m\u001b[0;34m'courseWorkName'\u001b[0m\u001b[0;34m]\u001b[0m\u001b[0;34m)\u001b[0m\u001b[0;34m\u001b[0m\u001b[0;34m\u001b[0m\u001b[0m\n",
      "\u001b[0;32m/opt/anaconda3/lib/python3.7/site-packages/googleapiclient/_helpers.py\u001b[0m in \u001b[0;36mpositional_wrapper\u001b[0;34m(*args, **kwargs)\u001b[0m\n\u001b[1;32m    132\u001b[0m                 \u001b[0;32melif\u001b[0m \u001b[0mpositional_parameters_enforcement\u001b[0m \u001b[0;34m==\u001b[0m \u001b[0mPOSITIONAL_WARNING\u001b[0m\u001b[0;34m:\u001b[0m\u001b[0;34m\u001b[0m\u001b[0;34m\u001b[0m\u001b[0m\n\u001b[1;32m    133\u001b[0m                     \u001b[0mlogger\u001b[0m\u001b[0;34m.\u001b[0m\u001b[0mwarning\u001b[0m\u001b[0;34m(\u001b[0m\u001b[0mmessage\u001b[0m\u001b[0;34m)\u001b[0m\u001b[0;34m\u001b[0m\u001b[0;34m\u001b[0m\u001b[0m\n\u001b[0;32m--> 134\u001b[0;31m             \u001b[0;32mreturn\u001b[0m \u001b[0mwrapped\u001b[0m\u001b[0;34m(\u001b[0m\u001b[0;34m*\u001b[0m\u001b[0margs\u001b[0m\u001b[0;34m,\u001b[0m \u001b[0;34m**\u001b[0m\u001b[0mkwargs\u001b[0m\u001b[0;34m)\u001b[0m\u001b[0;34m\u001b[0m\u001b[0;34m\u001b[0m\u001b[0m\n\u001b[0m\u001b[1;32m    135\u001b[0m \u001b[0;34m\u001b[0m\u001b[0m\n\u001b[1;32m    136\u001b[0m         \u001b[0;32mreturn\u001b[0m \u001b[0mpositional_wrapper\u001b[0m\u001b[0;34m\u001b[0m\u001b[0;34m\u001b[0m\u001b[0m\n",
      "\u001b[0;32m/opt/anaconda3/lib/python3.7/site-packages/googleapiclient/http.py\u001b[0m in \u001b[0;36mexecute\u001b[0;34m(self, http, num_retries)\u001b[0m\n\u001b[1;32m    896\u001b[0m             \u001b[0mcallback\u001b[0m\u001b[0;34m(\u001b[0m\u001b[0mresp\u001b[0m\u001b[0;34m)\u001b[0m\u001b[0;34m\u001b[0m\u001b[0;34m\u001b[0m\u001b[0m\n\u001b[1;32m    897\u001b[0m         \u001b[0;32mif\u001b[0m \u001b[0mresp\u001b[0m\u001b[0;34m.\u001b[0m\u001b[0mstatus\u001b[0m \u001b[0;34m>=\u001b[0m \u001b[0;36m300\u001b[0m\u001b[0;34m:\u001b[0m\u001b[0;34m\u001b[0m\u001b[0;34m\u001b[0m\u001b[0m\n\u001b[0;32m--> 898\u001b[0;31m             \u001b[0;32mraise\u001b[0m \u001b[0mHttpError\u001b[0m\u001b[0;34m(\u001b[0m\u001b[0mresp\u001b[0m\u001b[0;34m,\u001b[0m \u001b[0mcontent\u001b[0m\u001b[0;34m,\u001b[0m \u001b[0muri\u001b[0m\u001b[0;34m=\u001b[0m\u001b[0mself\u001b[0m\u001b[0;34m.\u001b[0m\u001b[0muri\u001b[0m\u001b[0;34m)\u001b[0m\u001b[0;34m\u001b[0m\u001b[0;34m\u001b[0m\u001b[0m\n\u001b[0m\u001b[1;32m    899\u001b[0m         \u001b[0;32mreturn\u001b[0m \u001b[0mself\u001b[0m\u001b[0;34m.\u001b[0m\u001b[0mpostproc\u001b[0m\u001b[0;34m(\u001b[0m\u001b[0mresp\u001b[0m\u001b[0;34m,\u001b[0m \u001b[0mcontent\u001b[0m\u001b[0;34m)\u001b[0m\u001b[0;34m\u001b[0m\u001b[0;34m\u001b[0m\u001b[0m\n\u001b[1;32m    900\u001b[0m \u001b[0;34m\u001b[0m\u001b[0m\n",
      "\u001b[0;31mHttpError\u001b[0m: <HttpError 403 when requesting https://classroom.googleapis.com/v1/courses/39405675985/courseWork/75649994456/studentSubmissions/Cg4I36OlmcoBENid3eiZAg?updateMask=assignedGrade%2CdraftGrade&alt=json returned \"@ProjectPermissionDenied The Developer Console project is not permitted to make this request.\">"
     ]
    }
   ],
   "source": [
    "result=None\n",
    "courseId = '39405675985'\n",
    "\n",
    "#для каждой проверенной работы выставляем оценку в Classroom\n",
    "for subm in data:\n",
    "    result = service.courses().courseWork().studentSubmissions().patch(courseId=courseId, \n",
    "                                                                    courseWorkId=subm['courseWorkId'], \n",
    "                                                                    id=subm['submissionId'], \n",
    "                                                                    updateMask='assignedGrade,draftGrade', \n",
    "                                                                    body={\"draftGrade\": \n",
    "                                                                          subm['grade'], \"assignedGrade\": subm['grade']}).execute()\n",
    "    print(subm['courseWorkName'])"
   ]
  },
  {
   "cell_type": "code",
   "execution_count": null,
   "metadata": {},
   "outputs": [],
   "source": []
  }
 ],
 "metadata": {
  "kernelspec": {
   "display_name": "Python 3",
   "language": "python",
   "name": "python3"
  },
  "language_info": {
   "codemirror_mode": {
    "name": "ipython",
    "version": 3
   },
   "file_extension": ".py",
   "mimetype": "text/x-python",
   "name": "python",
   "nbconvert_exporter": "python",
   "pygments_lexer": "ipython3",
   "version": "3.7.4"
  }
 },
 "nbformat": 4,
 "nbformat_minor": 2
}
